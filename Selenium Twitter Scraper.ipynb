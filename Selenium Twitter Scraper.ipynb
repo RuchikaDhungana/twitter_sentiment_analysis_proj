{
 "cells": [
  {
   "cell_type": "markdown",
   "id": "f26c2bf8",
   "metadata": {},
   "source": [
    "# SCRAPE TWEETS USING SELENIUM"
   ]
  },
  {
   "cell_type": "markdown",
   "id": "eb8a607d",
   "metadata": {},
   "source": [
    "### IMPORT LIBRARIES"
   ]
  },
  {
   "cell_type": "code",
   "execution_count": 1,
   "id": "6b736e07",
   "metadata": {},
   "outputs": [],
   "source": [
    "import selenium\n",
    "from selenium import webdriver\n",
    "from selenium.webdriver.common.by import By\n",
    "from selenium.webdriver.common.keys import Keys\n",
    "from time import sleep\n",
    "import getpass"
   ]
  },
  {
   "cell_type": "markdown",
   "id": "ecb7cf81",
   "metadata": {},
   "source": [
    "First and foremost, we will setup our chromedriver. Chromedriver is an opensource tool which alows automated testing of webapps. So, we can test the login and search process of Twitter in our own browser."
   ]
  },
  {
   "cell_type": "code",
   "execution_count": 6,
   "id": "9bec4e00",
   "metadata": {},
   "outputs": [],
   "source": [
    "PATH = \"R:/Projects/twitter_sentiment_analysis_proj/chromedriver.exe\"\n",
    "driver = webdriver.Chrome(PATH)\n",
    "driver.get(\"https://twitter.com/i/flow/login\")\n",
    "#driver.maximize_window()\n",
    "sleep(3)"
   ]
  },
  {
   "cell_type": "markdown",
   "id": "653f4802",
   "metadata": {},
   "source": [
    "Now, we need to login to twitter to gather the tweets. So, in this step, we will provide the required credentials."
   ]
  },
  {
   "cell_type": "code",
   "execution_count": 3,
   "id": "c5ad897a",
   "metadata": {},
   "outputs": [
    {
     "name": "stdout",
     "output_type": "stream",
     "text": [
      "········\n"
     ]
    }
   ],
   "source": [
    "my_user = \"Ruchika_dh\"\n",
    "my_pass = getpass.getpass()"
   ]
  },
  {
   "cell_type": "markdown",
   "id": "32d2a94e",
   "metadata": {},
   "source": [
    "We will now automate the login process by providing user_name and password that we provided above."
   ]
  },
  {
   "cell_type": "code",
   "execution_count": 7,
   "id": "e00492eb",
   "metadata": {},
   "outputs": [],
   "source": [
    "user_id = driver.find_element(By.XPATH,\"//input[@type='text']\")\n",
    "user_id.send_keys(my_user)\n",
    "user_id.send_keys(Keys.ENTER)"
   ]
  },
  {
   "cell_type": "code",
   "execution_count": 8,
   "id": "0edda835",
   "metadata": {},
   "outputs": [],
   "source": [
    "password = driver.find_element(By.XPATH,\"//input[@type='password']\")\n",
    "password.send_keys(my_pass)\n",
    "password.send_keys(Keys.ENTER)"
   ]
  },
  {
   "cell_type": "markdown",
   "id": "9386452b",
   "metadata": {},
   "source": [
    "Now that we are logged in, we will choose our search topic, which is 'COVID19 VACCINES' and setup our search-box."
   ]
  },
  {
   "cell_type": "code",
   "execution_count": 9,
   "id": "564b867e",
   "metadata": {},
   "outputs": [],
   "source": [
    "search_item = \"social media\"\n",
    "\n",
    "search_box = driver.find_element(By.XPATH,\"//input[@data-testid='SearchBox_Search_Input']\")\n",
    "search_box.send_keys(search_item)\n",
    "search_box.send_keys(Keys.ENTER)"
   ]
  },
  {
   "cell_type": "markdown",
   "id": "dc5e21a9",
   "metadata": {},
   "source": [
    "Finally, we will now be able o extract the tweets using selenium. The number of tweets we will be extracting is 100."
   ]
  },
  {
   "cell_type": "code",
   "execution_count": 10,
   "id": "9a7204c4",
   "metadata": {},
   "outputs": [],
   "source": [
    "all_tweets = set()\n",
    "\n",
    "tweets = driver.find_elements(By.XPATH,\"//div[@data-testid='tweetText']\")\n",
    "while True:\n",
    "    for tweet in tweets:\n",
    "        all_tweets.add(tweet.text)\n",
    "    driver.execute_script('window.scrollTo(0, document.body.scrollHeight);')\n",
    "    sleep(10)\n",
    "    tweets = driver.find_elements(By.XPATH,\"//div[@data-testid='tweetText']\")\n",
    "    if len(all_tweets)>100:\n",
    "        break"
   ]
  },
  {
   "cell_type": "code",
   "execution_count": 11,
   "id": "dd389476",
   "metadata": {},
   "outputs": [
    {
     "data": {
      "text/plain": [
       "'\"AI, NOSSA, O MERCADO\"\\n\\no mercado me parece tranquilão sendo que a gente acabou de sair de um golpe de estado'"
      ]
     },
     "execution_count": 11,
     "metadata": {},
     "output_type": "execute_result"
    }
   ],
   "source": [
    "all_tweets = list(all_tweets)\n",
    "all_tweets[0]"
   ]
  },
  {
   "cell_type": "markdown",
   "id": "ee18264c",
   "metadata": {},
   "source": [
    "In this step we will convert the list of tweets we have collected into a csv file so we can start our analysis."
   ]
  },
  {
   "cell_type": "code",
   "execution_count": 12,
   "id": "be52a979",
   "metadata": {},
   "outputs": [],
   "source": [
    "import pandas as pd"
   ]
  },
  {
   "cell_type": "code",
   "execution_count": 13,
   "id": "248a41b4",
   "metadata": {},
   "outputs": [],
   "source": [
    "df = pd.DataFrame (all_tweets, columns = ['tweets'])\n",
    "df.to_csv('Tweets.csv')"
   ]
  },
  {
   "cell_type": "code",
   "execution_count": 14,
   "id": "62e44b04",
   "metadata": {},
   "outputs": [
    {
     "data": {
      "text/html": [
       "<div>\n",
       "<style scoped>\n",
       "    .dataframe tbody tr th:only-of-type {\n",
       "        vertical-align: middle;\n",
       "    }\n",
       "\n",
       "    .dataframe tbody tr th {\n",
       "        vertical-align: top;\n",
       "    }\n",
       "\n",
       "    .dataframe thead th {\n",
       "        text-align: right;\n",
       "    }\n",
       "</style>\n",
       "<table border=\"1\" class=\"dataframe\">\n",
       "  <thead>\n",
       "    <tr style=\"text-align: right;\">\n",
       "      <th></th>\n",
       "      <th>tweets</th>\n",
       "    </tr>\n",
       "  </thead>\n",
       "  <tbody>\n",
       "    <tr>\n",
       "      <th>0</th>\n",
       "      <td>\"AI, NOSSA, O MERCADO\"\\n\\no mercado me parece ...</td>\n",
       "    </tr>\n",
       "    <tr>\n",
       "      <th>1</th>\n",
       "      <td>This Canva new update will transform your enti...</td>\n",
       "    </tr>\n",
       "    <tr>\n",
       "      <th>2</th>\n",
       "      <td>$AITX Calling all social media enthusiasts! He...</td>\n",
       "    </tr>\n",
       "    <tr>\n",
       "      <th>3</th>\n",
       "      <td>The Hardest Photo On Social Media Right Now.\\n...</td>\n",
       "    </tr>\n",
       "    <tr>\n",
       "      <th>4</th>\n",
       "      <td>oi gente! to disponível pra trabalho freelance...</td>\n",
       "    </tr>\n",
       "    <tr>\n",
       "      <th>...</th>\n",
       "      <td>...</td>\n",
       "    </tr>\n",
       "    <tr>\n",
       "      <th>102</th>\n",
       "      <td>No longer interested in dating people from soc...</td>\n",
       "    </tr>\n",
       "    <tr>\n",
       "      <th>103</th>\n",
       "      <td>That's it, folks, another Brexit milestone rea...</td>\n",
       "    </tr>\n",
       "    <tr>\n",
       "      <th>104</th>\n",
       "      <td>I don’t have any context but I've been told to...</td>\n",
       "    </tr>\n",
       "    <tr>\n",
       "      <th>105</th>\n",
       "      <td>Q1 - We like to show off where we live (and wh...</td>\n",
       "    </tr>\n",
       "    <tr>\n",
       "      <th>106</th>\n",
       "      <td>Do you think these parent that want to see boo...</td>\n",
       "    </tr>\n",
       "  </tbody>\n",
       "</table>\n",
       "<p>107 rows × 1 columns</p>\n",
       "</div>"
      ],
      "text/plain": [
       "                                                tweets\n",
       "0    \"AI, NOSSA, O MERCADO\"\\n\\no mercado me parece ...\n",
       "1    This Canva new update will transform your enti...\n",
       "2    $AITX Calling all social media enthusiasts! He...\n",
       "3    The Hardest Photo On Social Media Right Now.\\n...\n",
       "4    oi gente! to disponível pra trabalho freelance...\n",
       "..                                                 ...\n",
       "102  No longer interested in dating people from soc...\n",
       "103  That's it, folks, another Brexit milestone rea...\n",
       "104  I don’t have any context but I've been told to...\n",
       "105  Q1 - We like to show off where we live (and wh...\n",
       "106  Do you think these parent that want to see boo...\n",
       "\n",
       "[107 rows x 1 columns]"
      ]
     },
     "execution_count": 14,
     "metadata": {},
     "output_type": "execute_result"
    }
   ],
   "source": [
    "df"
   ]
  }
 ],
 "metadata": {
  "kernelspec": {
   "display_name": "Python 3 (ipykernel)",
   "language": "python",
   "name": "python3"
  },
  "language_info": {
   "codemirror_mode": {
    "name": "ipython",
    "version": 3
   },
   "file_extension": ".py",
   "mimetype": "text/x-python",
   "name": "python",
   "nbconvert_exporter": "python",
   "pygments_lexer": "ipython3",
   "version": "3.9.12"
  }
 },
 "nbformat": 4,
 "nbformat_minor": 5
}
